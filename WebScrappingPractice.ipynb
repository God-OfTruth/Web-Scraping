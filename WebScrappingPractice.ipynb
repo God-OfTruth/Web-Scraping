{
  "nbformat": 4,
  "nbformat_minor": 0,
  "metadata": {
    "colab": {
      "name": "WebScrappingPractice.ipynb",
      "provenance": [],
      "authorship_tag": "ABX9TyPpxd6Zf6Bg3XY7Lo9fhRUW",
      "include_colab_link": true
    },
    "kernelspec": {
      "name": "python3",
      "display_name": "Python 3"
    },
    "language_info": {
      "name": "python"
    }
  },
  "cells": [
    {
      "cell_type": "markdown",
      "metadata": {
        "id": "view-in-github",
        "colab_type": "text"
      },
      "source": [
        "<a href=\"https://colab.research.google.com/github/God-OfTruth/Web-Scraping/blob/main/WebScrappingPractice.ipynb\" target=\"_parent\"><img src=\"https://colab.research.google.com/assets/colab-badge.svg\" alt=\"Open In Colab\"/></a>"
      ]
    },
    {
      "cell_type": "markdown",
      "metadata": {
        "id": "M-uR34qGiR7Y"
      },
      "source": [
        "Importing Libraries"
      ]
    },
    {
      "cell_type": "code",
      "metadata": {
        "id": "81neEM5Ad5AR"
      },
      "source": [
        "import requests\n",
        "from bs4 import BeautifulSoup"
      ],
      "execution_count": 1,
      "outputs": []
    },
    {
      "cell_type": "markdown",
      "metadata": {
        "id": "_lpJBrWtiZoj"
      },
      "source": [
        "Geting Data from Link"
      ]
    },
    {
      "cell_type": "code",
      "metadata": {
        "id": "-Q6qGHbjeQoA"
      },
      "source": [
        "r=requests.get(\"https://pythonizing.github.io/data/example.html\") \n",
        "c=r.content"
      ],
      "execution_count": 2,
      "outputs": []
    },
    {
      "cell_type": "markdown",
      "metadata": {
        "id": "JVE4prZmigja"
      },
      "source": [
        "Printing the Data"
      ]
    },
    {
      "cell_type": "code",
      "metadata": {
        "colab": {
          "base_uri": "https://localhost:8080/"
        },
        "id": "PL1UBaJzehUH",
        "outputId": "f72d760b-1b4d-4f95-ea3a-4a87ab27b49f"
      },
      "source": [
        "c"
      ],
      "execution_count": 3,
      "outputs": [
        {
          "output_type": "execute_result",
          "data": {
            "text/plain": [
              "b'\\n<!DOCTYPE html>\\n<html>\\n<head>\\n<style>\\ndiv.cities {\\n    background-color:black;\\n    color:white;\\n    margin:20px;\\n    padding:20px;\\n} \\n</style>\\n</head>\\n<body>\\n\\n<h1 align=\"center\"> Here are three big cities </h1>\\n\\n<div class=\"cities\">\\n<h2>London</h2>\\n<p>London is the capital of England and it\\'s been a British settlement since 2000 years ago. </p>\\n</div>\\n\\n<div class=\"cities\">\\n<h2>Paris</h2>\\n<p>Paris is the capital city of France. It was declared capital since 508.</p>\\n</div>\\n\\n<div class=\"cities\">\\n<h2>Tokyo</h2>\\n<p>Tokyo is the capital of Japan and one of the most populated cities in the world.</p>\\n</div>\\n\\n</body>\\n</html>\\n'"
            ]
          },
          "metadata": {},
          "execution_count": 3
        }
      ]
    },
    {
      "cell_type": "code",
      "metadata": {
        "id": "c_-pNC7weiuw"
      },
      "source": [
        "soup=BeautifulSoup(c,\"html.parser\")"
      ],
      "execution_count": 4,
      "outputs": []
    },
    {
      "cell_type": "markdown",
      "metadata": {
        "id": "RkKmWIZYisTj"
      },
      "source": [
        "Filtering Data Using soup.find_all Medhod providing the tag(HTML)"
      ]
    },
    {
      "cell_type": "code",
      "metadata": {
        "id": "ghw1at43fEQy"
      },
      "source": [
        "all_div=soup.find_all(\"div\",{\"class\":\"cities\"})"
      ],
      "execution_count": 11,
      "outputs": []
    },
    {
      "cell_type": "code",
      "metadata": {
        "colab": {
          "base_uri": "https://localhost:8080/"
        },
        "id": "HMvCkKX1f8UV",
        "outputId": "17c1c2da-b11c-493c-a6e0-195c83fbefe4"
      },
      "source": [
        "all_div[0]"
      ],
      "execution_count": 14,
      "outputs": [
        {
          "output_type": "execute_result",
          "data": {
            "text/plain": [
              "<div class=\"cities\">\n",
              "<h2>London</h2>\n",
              "<p>London is the capital of England and it's been a British settlement since 2000 years ago. </p>\n",
              "</div>"
            ]
          },
          "metadata": {},
          "execution_count": 14
        }
      ]
    },
    {
      "cell_type": "code",
      "metadata": {
        "colab": {
          "base_uri": "https://localhost:8080/"
        },
        "id": "5agjizaCgc6j",
        "outputId": "e1dafb7f-f544-4308-c5d6-9d5d7cd877d2"
      },
      "source": [
        "all_div[0].find_all(\"h2\")"
      ],
      "execution_count": 19,
      "outputs": [
        {
          "output_type": "execute_result",
          "data": {
            "text/plain": [
              "[<h2>London</h2>]"
            ]
          },
          "metadata": {},
          "execution_count": 19
        }
      ]
    },
    {
      "cell_type": "code",
      "metadata": {
        "colab": {
          "base_uri": "https://localhost:8080/"
        },
        "id": "c0scSlK4gkIY",
        "outputId": "1426c073-3880-48ac-98ba-129dc5abc8ea"
      },
      "source": [
        "all_div[0].find_all(\"h2\")[0]"
      ],
      "execution_count": 20,
      "outputs": [
        {
          "output_type": "execute_result",
          "data": {
            "text/plain": [
              "<h2>London</h2>"
            ]
          },
          "metadata": {},
          "execution_count": 20
        }
      ]
    },
    {
      "cell_type": "code",
      "metadata": {
        "colab": {
          "base_uri": "https://localhost:8080/",
          "height": 35
        },
        "id": "8IcTBKoohgUg",
        "outputId": "4b253a7b-28eb-4853-8ba8-2906264c744d"
      },
      "source": [
        "all_div[0].find_all(\"h2\")[0].text"
      ],
      "execution_count": 21,
      "outputs": [
        {
          "output_type": "execute_result",
          "data": {
            "application/vnd.google.colaboratory.intrinsic+json": {
              "type": "string"
            },
            "text/plain": [
              "'London'"
            ]
          },
          "metadata": {},
          "execution_count": 21
        }
      ]
    },
    {
      "cell_type": "markdown",
      "metadata": {
        "id": "AENMonyZjDgL"
      },
      "source": [
        "Accesing and Printing Data using loops"
      ]
    },
    {
      "cell_type": "code",
      "metadata": {
        "colab": {
          "base_uri": "https://localhost:8080/"
        },
        "id": "vfvO1YyAhkCP",
        "outputId": "9fa6f8a7-1fa6-471f-d9fe-a40d826792a9"
      },
      "source": [
        "for i in all_div:\n",
        "  print (i.find_all(\"h2\")[0].text)"
      ],
      "execution_count": 22,
      "outputs": [
        {
          "output_type": "stream",
          "name": "stdout",
          "text": [
            "London\n",
            "Paris\n",
            "Tokyo\n"
          ]
        }
      ]
    },
    {
      "cell_type": "code",
      "metadata": {
        "colab": {
          "base_uri": "https://localhost:8080/"
        },
        "id": "NW696qTxiEf8",
        "outputId": "cd01d5ff-509a-4f00-90cb-4c7a00edd99f"
      },
      "source": [
        "for i in all_div:\n",
        "  print (i.find_all(\"p\")[0].text)"
      ],
      "execution_count": 23,
      "outputs": [
        {
          "output_type": "stream",
          "name": "stdout",
          "text": [
            "London is the capital of England and it's been a British settlement since 2000 years ago. \n",
            "Paris is the capital city of France. It was declared capital since 508.\n",
            "Tokyo is the capital of Japan and one of the most populated cities in the world.\n"
          ]
        }
      ]
    },
    {
      "cell_type": "code",
      "metadata": {
        "id": "7pikeKp6iJSJ"
      },
      "source": [
        ""
      ],
      "execution_count": null,
      "outputs": []
    }
  ]
}